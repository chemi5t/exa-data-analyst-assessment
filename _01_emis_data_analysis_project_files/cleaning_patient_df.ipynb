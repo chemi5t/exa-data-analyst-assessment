{
 "cells": [
  {
   "cell_type": "markdown",
   "id": "53f2e8e4",
   "metadata": {},
   "source": [
    "# EMIS Data Analyst Project"
   ]
  },
  {
   "cell_type": "code",
   "execution_count": 1,
   "id": "1d0c75ee",
   "metadata": {},
   "outputs": [],
   "source": [
    "import os\n",
    "import pandas as pd\n",
    "\n",
    "from data_extraction import DataExtractor as de"
   ]
  },
  {
   "cell_type": "code",
   "execution_count": 2,
   "id": "bd0bcf1c",
   "metadata": {},
   "outputs": [],
   "source": [
    "# Initialise instances\n",
    "data_extractor = de()"
   ]
  },
  {
   "cell_type": "markdown",
   "id": "cb7d1faa",
   "metadata": {},
   "source": [
    "# Cleaning of patient.csv\n",
    "\n",
    "- registration_guid and patient_id could be reference columns for PK/FK"
   ]
  },
  {
   "cell_type": "code",
   "execution_count": 3,
   "id": "5f151484",
   "metadata": {},
   "outputs": [],
   "source": [
    "# Define path to clinical codes CSV file\n",
    "patient_file_path = os.path.join(r'..\\data', 'patient.csv')\n",
    "\n",
    "# Extract clinical codes from CSV file\n",
    "patient_df = data_extractor.extract_from_csv(patient_file_path)\n"
   ]
  },
  {
   "cell_type": "code",
   "execution_count": 4,
   "id": "b566a2f5",
   "metadata": {},
   "outputs": [
    {
     "data": {
      "text/html": [
       "<div>\n",
       "<style scoped>\n",
       "    .dataframe tbody tr th:only-of-type {\n",
       "        vertical-align: middle;\n",
       "    }\n",
       "\n",
       "    .dataframe tbody tr th {\n",
       "        vertical-align: top;\n",
       "    }\n",
       "\n",
       "    .dataframe thead th {\n",
       "        text-align: right;\n",
       "    }\n",
       "</style>\n",
       "<table border=\"1\" class=\"dataframe\">\n",
       "  <thead>\n",
       "    <tr style=\"text-align: right;\">\n",
       "      <th></th>\n",
       "      <th>age</th>\n",
       "      <th>postcode</th>\n",
       "      <th>patient_surname</th>\n",
       "      <th>patient_givenname</th>\n",
       "      <th>date_of_birth</th>\n",
       "      <th>date_of_death</th>\n",
       "      <th>registration_guid</th>\n",
       "      <th>patient_id</th>\n",
       "      <th>gender</th>\n",
       "    </tr>\n",
       "  </thead>\n",
       "  <tbody>\n",
       "    <tr>\n",
       "      <th>0</th>\n",
       "      <td>0</td>\n",
       "      <td>HX2 8WG</td>\n",
       "      <td>Bibi</td>\n",
       "      <td>Maureen</td>\n",
       "      <td>2023-02-11 00:00:00</td>\n",
       "      <td>NaN</td>\n",
       "      <td>9A70C9CD-D0F7-43F3-A05C-34C8F192E00C</td>\n",
       "      <td>10457</td>\n",
       "      <td>Female</td>\n",
       "    </tr>\n",
       "    <tr>\n",
       "      <th>1</th>\n",
       "      <td>0</td>\n",
       "      <td>LS10 8MH</td>\n",
       "      <td>O'Brien</td>\n",
       "      <td>Karen</td>\n",
       "      <td>2022-11-08 00:00:00</td>\n",
       "      <td>NaN</td>\n",
       "      <td>57E3019C-25E6-4591-AA6D-3139AF37DC3F</td>\n",
       "      <td>11488</td>\n",
       "      <td>Female</td>\n",
       "    </tr>\n",
       "    <tr>\n",
       "      <th>2</th>\n",
       "      <td>0</td>\n",
       "      <td>WF17 2XU</td>\n",
       "      <td>Turner</td>\n",
       "      <td>Mark</td>\n",
       "      <td>2023-01-28 00:00:00</td>\n",
       "      <td>NaN</td>\n",
       "      <td>A1700F02-134E-42FF-B537-1B7DA00F8C25</td>\n",
       "      <td>9844</td>\n",
       "      <td>Male</td>\n",
       "    </tr>\n",
       "    <tr>\n",
       "      <th>3</th>\n",
       "      <td>0</td>\n",
       "      <td>WF13 3RJ</td>\n",
       "      <td>Law</td>\n",
       "      <td>Frederick</td>\n",
       "      <td>2022-12-05 00:00:00</td>\n",
       "      <td>NaN</td>\n",
       "      <td>CEDE39B9-9261-4B21-9E07-92D4308E87D5</td>\n",
       "      <td>9972</td>\n",
       "      <td>Male</td>\n",
       "    </tr>\n",
       "    <tr>\n",
       "      <th>4</th>\n",
       "      <td>0</td>\n",
       "      <td>LS99 9ZZ</td>\n",
       "      <td>Connor</td>\n",
       "      <td>Emerald</td>\n",
       "      <td>2022-11-17 00:00:00</td>\n",
       "      <td>NaN</td>\n",
       "      <td>9532DEBE-42CC-40E4-820A-55DF603E0D23</td>\n",
       "      <td>18955</td>\n",
       "      <td>Indeterminate</td>\n",
       "    </tr>\n",
       "    <tr>\n",
       "      <th>...</th>\n",
       "      <td>...</td>\n",
       "      <td>...</td>\n",
       "      <td>...</td>\n",
       "      <td>...</td>\n",
       "      <td>...</td>\n",
       "      <td>...</td>\n",
       "      <td>...</td>\n",
       "      <td>...</td>\n",
       "      <td>...</td>\n",
       "    </tr>\n",
       "    <tr>\n",
       "      <th>4538</th>\n",
       "      <td>0</td>\n",
       "      <td>LS99 9ZZ</td>\n",
       "      <td>Lyons</td>\n",
       "      <td>Ahmir</td>\n",
       "      <td>2023-01-08 00:00:00</td>\n",
       "      <td>NaN</td>\n",
       "      <td>61CE65F5-271B-4151-8700-70DE00CC0A9B</td>\n",
       "      <td>29589</td>\n",
       "      <td>Female</td>\n",
       "    </tr>\n",
       "    <tr>\n",
       "      <th>4539</th>\n",
       "      <td>0</td>\n",
       "      <td>LS99 9ZZ</td>\n",
       "      <td>Williamson</td>\n",
       "      <td>Cyrus</td>\n",
       "      <td>2023-02-09 00:00:00</td>\n",
       "      <td>NaN</td>\n",
       "      <td>4C16CFF4-520C-4B1C-8B03-9B214BDFAC76</td>\n",
       "      <td>19592</td>\n",
       "      <td>Female</td>\n",
       "    </tr>\n",
       "    <tr>\n",
       "      <th>4540</th>\n",
       "      <td>0</td>\n",
       "      <td>LS99 9ZZ</td>\n",
       "      <td>Healy</td>\n",
       "      <td>Kamari</td>\n",
       "      <td>2022-12-10 00:00:00</td>\n",
       "      <td>NaN</td>\n",
       "      <td>21107E5F-CE16-4669-9B6E-43671212E9D0</td>\n",
       "      <td>27505</td>\n",
       "      <td>Indeterminate</td>\n",
       "    </tr>\n",
       "    <tr>\n",
       "      <th>4541</th>\n",
       "      <td>0</td>\n",
       "      <td>LS99 9ZZ</td>\n",
       "      <td>Bolton</td>\n",
       "      <td>Zachariah</td>\n",
       "      <td>2022-11-23 00:00:00</td>\n",
       "      <td>NaN</td>\n",
       "      <td>9F8F0E53-7252-4998-A035-6809941C8A83</td>\n",
       "      <td>30629</td>\n",
       "      <td>Male</td>\n",
       "    </tr>\n",
       "    <tr>\n",
       "      <th>4542</th>\n",
       "      <td>0</td>\n",
       "      <td>LS99 9ZZ</td>\n",
       "      <td>Johnson</td>\n",
       "      <td>Adrianna</td>\n",
       "      <td>2022-12-05 00:00:00</td>\n",
       "      <td>NaN</td>\n",
       "      <td>F2E5C6F8-52B3-477B-83B2-955A9BB227A5</td>\n",
       "      <td>26947</td>\n",
       "      <td>Female</td>\n",
       "    </tr>\n",
       "  </tbody>\n",
       "</table>\n",
       "<p>4543 rows × 9 columns</p>\n",
       "</div>"
      ],
      "text/plain": [
       "      age  postcode patient_surname patient_givenname        date_of_birth  \\\n",
       "0       0   HX2 8WG            Bibi           Maureen  2023-02-11 00:00:00   \n",
       "1       0  LS10 8MH         O'Brien             Karen  2022-11-08 00:00:00   \n",
       "2       0  WF17 2XU          Turner              Mark  2023-01-28 00:00:00   \n",
       "3       0  WF13 3RJ             Law         Frederick  2022-12-05 00:00:00   \n",
       "4       0  LS99 9ZZ          Connor           Emerald  2022-11-17 00:00:00   \n",
       "...   ...       ...             ...               ...                  ...   \n",
       "4538    0  LS99 9ZZ           Lyons             Ahmir  2023-01-08 00:00:00   \n",
       "4539    0  LS99 9ZZ      Williamson             Cyrus  2023-02-09 00:00:00   \n",
       "4540    0  LS99 9ZZ           Healy            Kamari  2022-12-10 00:00:00   \n",
       "4541    0  LS99 9ZZ          Bolton         Zachariah  2022-11-23 00:00:00   \n",
       "4542    0  LS99 9ZZ         Johnson          Adrianna  2022-12-05 00:00:00   \n",
       "\n",
       "     date_of_death                     registration_guid  patient_id  \\\n",
       "0              NaN  9A70C9CD-D0F7-43F3-A05C-34C8F192E00C       10457   \n",
       "1              NaN  57E3019C-25E6-4591-AA6D-3139AF37DC3F       11488   \n",
       "2              NaN  A1700F02-134E-42FF-B537-1B7DA00F8C25        9844   \n",
       "3              NaN  CEDE39B9-9261-4B21-9E07-92D4308E87D5        9972   \n",
       "4              NaN  9532DEBE-42CC-40E4-820A-55DF603E0D23       18955   \n",
       "...            ...                                   ...         ...   \n",
       "4538           NaN  61CE65F5-271B-4151-8700-70DE00CC0A9B       29589   \n",
       "4539           NaN  4C16CFF4-520C-4B1C-8B03-9B214BDFAC76       19592   \n",
       "4540           NaN  21107E5F-CE16-4669-9B6E-43671212E9D0       27505   \n",
       "4541           NaN  9F8F0E53-7252-4998-A035-6809941C8A83       30629   \n",
       "4542           NaN  F2E5C6F8-52B3-477B-83B2-955A9BB227A5       26947   \n",
       "\n",
       "             gender  \n",
       "0            Female  \n",
       "1            Female  \n",
       "2              Male  \n",
       "3              Male  \n",
       "4     Indeterminate  \n",
       "...             ...  \n",
       "4538         Female  \n",
       "4539         Female  \n",
       "4540  Indeterminate  \n",
       "4541           Male  \n",
       "4542         Female  \n",
       "\n",
       "[4543 rows x 9 columns]"
      ]
     },
     "metadata": {},
     "output_type": "display_data"
    },
    {
     "name": "stdout",
     "output_type": "stream",
     "text": [
      "\n",
      "\n",
      "\n",
      "<class 'pandas.core.frame.DataFrame'>\n",
      "RangeIndex: 4543 entries, 0 to 4542\n",
      "Data columns (total 9 columns):\n",
      " #   Column             Non-Null Count  Dtype \n",
      "---  ------             --------------  ----- \n",
      " 0   age                4543 non-null   int64 \n",
      " 1   postcode           4438 non-null   object\n",
      " 2   patient_surname    4543 non-null   object\n",
      " 3   patient_givenname  4543 non-null   object\n",
      " 4   date_of_birth      4543 non-null   object\n",
      " 5   date_of_death      13 non-null     object\n",
      " 6   registration_guid  4543 non-null   object\n",
      " 7   patient_id         4543 non-null   int64 \n",
      " 8   gender             4543 non-null   object\n",
      "dtypes: int64(2), object(7)\n",
      "memory usage: 319.6+ KB\n"
     ]
    },
    {
     "data": {
      "text/plain": [
       "None"
      ]
     },
     "metadata": {},
     "output_type": "display_data"
    },
    {
     "name": "stdout",
     "output_type": "stream",
     "text": [
      "age                   int64\n",
      "postcode             object\n",
      "patient_surname      object\n",
      "patient_givenname    object\n",
      "date_of_birth        object\n",
      "date_of_death        object\n",
      "registration_guid    object\n",
      "patient_id            int64\n",
      "gender               object\n",
      "dtype: object\n"
     ]
    }
   ],
   "source": [
    "display(patient_df)\n",
    "print(\"\\n\\n\")\n",
    "display(patient_df.info())\n",
    "dtype = patient_df.dtypes\n",
    "print (dtype)"
   ]
  },
  {
   "cell_type": "code",
   "execution_count": 10,
   "id": "15faae35",
   "metadata": {},
   "outputs": [
    {
     "name": "stdout",
     "output_type": "stream",
     "text": [
      "[10457 11488  9844 ... 27505 30629 26947]\n",
      "4543\n"
     ]
    }
   ],
   "source": [
    "print(patient_df['patient_id'].unique())\n",
    "print(len(patient_df['patient_id'].unique()))"
   ]
  },
  {
   "cell_type": "code",
   "execution_count": 9,
   "id": "39be1266",
   "metadata": {},
   "outputs": [
    {
     "name": "stdout",
     "output_type": "stream",
     "text": [
      "['9A70C9CD-D0F7-43F3-A05C-34C8F192E00C'\n",
      " '57E3019C-25E6-4591-AA6D-3139AF37DC3F'\n",
      " 'A1700F02-134E-42FF-B537-1B7DA00F8C25' ...\n",
      " '21107E5F-CE16-4669-9B6E-43671212E9D0'\n",
      " '9F8F0E53-7252-4998-A035-6809941C8A83'\n",
      " 'F2E5C6F8-52B3-477B-83B2-955A9BB227A5']\n",
      "4543\n"
     ]
    }
   ],
   "source": [
    "print(patient_df['registration_guid'].unique())\n",
    "print(len(patient_df['registration_guid'].unique()))"
   ]
  },
  {
   "cell_type": "code",
   "execution_count": 42,
   "id": "1b68c58c",
   "metadata": {},
   "outputs": [
    {
     "name": "stdout",
     "output_type": "stream",
     "text": [
      "[NaN, '>', '<=', '<', '>=']\n",
      "Categories (4, object): ['<', '<=', '>', '>='] \n",
      "\n",
      "category\n"
     ]
    }
   ],
   "source": [
    "# Treat the column as string\n",
    "combined_observation_df['comparator'] = combined_observation_df['comparator'].astype(str)\n",
    "\n",
    "# Replace 'nan' strings with actual NaN values\n",
    "combined_observation_df.loc[combined_observation_df['comparator'] == 'nan', 'comparator'] = pd.NA\n",
    "\n",
    "# Convert the column to categorical type\n",
    "combined_observation_df['comparator'] = combined_observation_df['comparator'].astype('category')\n",
    "\n",
    "# Verify the changes\n",
    "print(combined_observation_df['comparator'].unique(), \"\\n\")\n",
    "print(combined_observation_df['comparator'].dtype)\n"
   ]
  },
  {
   "cell_type": "code",
   "execution_count": 43,
   "id": "3f4d795a",
   "metadata": {},
   "outputs": [],
   "source": [
    "def clean_column_data(selected_table_df: pd.DataFrame, column_name: str) -> pd.DataFrame:\n",
    "\n",
    "        # Treat the column as string\n",
    "        selected_table_df[column_name] = selected_table_df[column_name].astype(str)\n",
    "\n",
    "        # Replace 'nan' strings with actual NaN values\n",
    "        selected_table_df.loc[selected_table_df[column_name] == 'nan', column_name] = pd.NA\n",
    "\n",
    "        # Convert the column to categorical type\n",
    "        selected_table_df[column_name] = selected_table_df[column_name].astype('category')\n",
    "\n",
    "        return selected_table_df\n"
   ]
  },
  {
   "cell_type": "code",
   "execution_count": 44,
   "id": "7c1509f6",
   "metadata": {},
   "outputs": [
    {
     "name": "stdout",
     "output_type": "stream",
     "text": [
      "<class 'pandas.core.frame.DataFrame'>\n",
      "RangeIndex: 275768 entries, 0 to 275767\n",
      "Data columns (total 50 columns):\n",
      " #   Column                                    Non-Null Count   Dtype   \n",
      "---  ------                                    --------------   -----   \n",
      " 0   abnormal                                  275768 non-null  bool    \n",
      " 1   emis_code_id                              275768 non-null  int64   \n",
      " 2   comparator                                16 non-null      category\n",
      " 3   confidential_flag                         275768 non-null  bool    \n",
      " 4   confidential_patient_flag                 275768 non-null  bool    \n",
      " 5   consultation_source_emis_code_id          113032 non-null  float64 \n",
      " 6   consultation_source_emis_original_term    113032 non-null  object  \n",
      " 7   document_guid                             14271 non-null   object  \n",
      " 8   dummy_patient_flag                        275768 non-null  bool    \n",
      " 9   effective_date                            275463 non-null  object  \n",
      " 10  effective_date_precision                  275768 non-null  object  \n",
      " 11  emis_enteredby_userinrole_guid            275768 non-null  object  \n",
      " 12  emis_episodicity                          275768 non-null  int64   \n",
      " 13  end_date                                  17073 non-null   object  \n",
      " 14  fhir_episodicity                          68342 non-null   object  \n",
      " 15  emis_observation_guid                     275768 non-null  object  \n",
      " 16  exa_observation_guid                      275768 non-null  object  \n",
      " 17  fhir_interpretation_code                  12079 non-null   object  \n",
      " 18  is_parent_flag                            25302 non-null   object  \n",
      " 19  non_regular_and_current_active_flag       275768 non-null  bool    \n",
      " 20  emis_observation_id                       275768 non-null  int64   \n",
      " 21  observation_type                          275768 non-null  object  \n",
      " 22  emis_observationtypeid                    275768 non-null  int64   \n",
      " 23  opt_out_93c1_flag                         275768 non-null  bool    \n",
      " 24  opt_out_9nd19nu09nu4_flag                 275768 non-null  bool    \n",
      " 25  opt_out_9nd19nu0_flag                     275768 non-null  bool    \n",
      " 26  opt_out_9nu0_flag                         275768 non-null  bool    \n",
      " 27  other_code                                9416 non-null    object  \n",
      " 28  other_code_system                         9416 non-null    object  \n",
      " 29  other_display                             9416 non-null    object  \n",
      " 30  range_lower                               50926 non-null   float64 \n",
      " 31  range_upper                               50928 non-null   float64 \n",
      " 32  readv2_code                               266352 non-null  object  \n",
      " 33  recorded_date                             275768 non-null  object  \n",
      " 34  registration_guid                         275768 non-null  object  \n",
      " 35  regular_and_current_active_flag           275768 non-null  bool    \n",
      " 36  regular_current_active_and_inactive_flag  275768 non-null  bool    \n",
      " 37  regular_patient_flag                      275768 non-null  bool    \n",
      " 38  emis_original_term                        275768 non-null  object  \n",
      " 39  sensitive_flag                            275768 non-null  bool    \n",
      " 40  sensitive_patient_flag                    275768 non-null  bool    \n",
      " 41  snomed_concept_id                         275768 non-null  int64   \n",
      " 42  snomed_description_id                     275768 non-null  int64   \n",
      " 43  emis_parent_observation_guid              81091 non-null   object  \n",
      " 44  exa_parent_observation_guid               81091 non-null   object  \n",
      " 45  uom                                       99632 non-null   object  \n",
      " 46  uom_ucum                                  40351 non-null   object  \n",
      " 47  user_selected                             0 non-null       float64 \n",
      " 48  numericvalue                              106001 non-null  float64 \n",
      " 49  value_pq_2                                0 non-null       float64 \n",
      "dtypes: bool(14), category(1), float64(6), int64(6), object(23)\n",
      "memory usage: 77.6+ MB\n"
     ]
    },
    {
     "data": {
      "text/plain": [
       "None"
      ]
     },
     "metadata": {},
     "output_type": "display_data"
    }
   ],
   "source": [
    "combined_observation_df = clean_column_data(combined_observation_df, 'comparator')\n",
    "display(combined_observation_df.info())\n"
   ]
  },
  {
   "cell_type": "markdown",
   "id": "74ed12bb",
   "metadata": {},
   "source": [
    "# Cleaning clinincal_codes"
   ]
  },
  {
   "cell_type": "code",
   "execution_count": 45,
   "id": "2dbf5332",
   "metadata": {},
   "outputs": [
    {
     "data": {
      "text/html": [
       "<div>\n",
       "<style scoped>\n",
       "    .dataframe tbody tr th:only-of-type {\n",
       "        vertical-align: middle;\n",
       "    }\n",
       "\n",
       "    .dataframe tbody tr th {\n",
       "        vertical-align: top;\n",
       "    }\n",
       "\n",
       "    .dataframe thead th {\n",
       "        text-align: right;\n",
       "    }\n",
       "</style>\n",
       "<table border=\"1\" class=\"dataframe\">\n",
       "  <thead>\n",
       "    <tr style=\"text-align: right;\">\n",
       "      <th></th>\n",
       "      <th>refset_simple_id</th>\n",
       "      <th>parent_code_id</th>\n",
       "      <th>code_id</th>\n",
       "      <th>snomed_concept_id</th>\n",
       "      <th>emis_term</th>\n",
       "    </tr>\n",
       "  </thead>\n",
       "  <tbody>\n",
       "    <tr>\n",
       "      <th>0</th>\n",
       "      <td>9.990129e+17</td>\n",
       "      <td>NaN</td>\n",
       "      <td>9315231000006113</td>\n",
       "      <td>1.067599e+16</td>\n",
       "      <td>Acute severe exacerbation of mild persistent a...</td>\n",
       "    </tr>\n",
       "    <tr>\n",
       "      <th>1</th>\n",
       "      <td>9.990129e+17</td>\n",
       "      <td>NaN</td>\n",
       "      <td>301451010</td>\n",
       "      <td>1.959490e+08</td>\n",
       "      <td>Chronic wheezy bronchitis</td>\n",
       "    </tr>\n",
       "    <tr>\n",
       "      <th>2</th>\n",
       "      <td>9.990116e+17</td>\n",
       "      <td>NaN</td>\n",
       "      <td>7627141000006111</td>\n",
       "      <td>7.080300e+08</td>\n",
       "      <td>Pulmonary emphysema co-occurrent with fibrosis...</td>\n",
       "    </tr>\n",
       "    <tr>\n",
       "      <th>3</th>\n",
       "      <td>9.990129e+17</td>\n",
       "      <td>NaN</td>\n",
       "      <td>13844351000006118</td>\n",
       "      <td>7.039540e+08</td>\n",
       "      <td>Asthma caused by house dust mite, Dermatophago...</td>\n",
       "    </tr>\n",
       "    <tr>\n",
       "      <th>4</th>\n",
       "      <td>9.990116e+17</td>\n",
       "      <td>NaN</td>\n",
       "      <td>506053014</td>\n",
       "      <td>8.440900e+07</td>\n",
       "      <td>Purulent chronic bronchitis</td>\n",
       "    </tr>\n",
       "    <tr>\n",
       "      <th>...</th>\n",
       "      <td>...</td>\n",
       "      <td>...</td>\n",
       "      <td>...</td>\n",
       "      <td>...</td>\n",
       "      <td>...</td>\n",
       "    </tr>\n",
       "    <tr>\n",
       "      <th>581</th>\n",
       "      <td>9.990116e+17</td>\n",
       "      <td>NaN</td>\n",
       "      <td>139979010</td>\n",
       "      <td>8.440900e+07</td>\n",
       "      <td>Fetid chronic bronchitis</td>\n",
       "    </tr>\n",
       "    <tr>\n",
       "      <th>582</th>\n",
       "      <td>9.990116e+17</td>\n",
       "      <td>NaN</td>\n",
       "      <td>3921361000006112</td>\n",
       "      <td>8.743300e+07</td>\n",
       "      <td>Emphysema of lung</td>\n",
       "    </tr>\n",
       "    <tr>\n",
       "      <th>583</th>\n",
       "      <td>NaN</td>\n",
       "      <td>1.223821e+15</td>\n",
       "      <td>9299341000033119</td>\n",
       "      <td>NaN</td>\n",
       "      <td>Olodaterol 2.5micrograms/dose solution for inh...</td>\n",
       "    </tr>\n",
       "    <tr>\n",
       "      <th>584</th>\n",
       "      <td>NaN</td>\n",
       "      <td>7.173210e+14</td>\n",
       "      <td>3164141000033119</td>\n",
       "      <td>NaN</td>\n",
       "      <td>Fluticasone propionate 250micrograms/dose / Sa...</td>\n",
       "    </tr>\n",
       "    <tr>\n",
       "      <th>585</th>\n",
       "      <td>NaN</td>\n",
       "      <td>5.912210e+14</td>\n",
       "      <td>9995641000033112</td>\n",
       "      <td>NaN</td>\n",
       "      <td>Aclidinium bromide 396micrograms/dose / Formot...</td>\n",
       "    </tr>\n",
       "  </tbody>\n",
       "</table>\n",
       "<p>586 rows × 5 columns</p>\n",
       "</div>"
      ],
      "text/plain": [
       "     refset_simple_id  parent_code_id            code_id  snomed_concept_id  \\\n",
       "0        9.990129e+17             NaN   9315231000006113       1.067599e+16   \n",
       "1        9.990129e+17             NaN          301451010       1.959490e+08   \n",
       "2        9.990116e+17             NaN   7627141000006111       7.080300e+08   \n",
       "3        9.990129e+17             NaN  13844351000006118       7.039540e+08   \n",
       "4        9.990116e+17             NaN          506053014       8.440900e+07   \n",
       "..                ...             ...                ...                ...   \n",
       "581      9.990116e+17             NaN          139979010       8.440900e+07   \n",
       "582      9.990116e+17             NaN   3921361000006112       8.743300e+07   \n",
       "583               NaN    1.223821e+15   9299341000033119                NaN   \n",
       "584               NaN    7.173210e+14   3164141000033119                NaN   \n",
       "585               NaN    5.912210e+14   9995641000033112                NaN   \n",
       "\n",
       "                                             emis_term  \n",
       "0    Acute severe exacerbation of mild persistent a...  \n",
       "1                            Chronic wheezy bronchitis  \n",
       "2    Pulmonary emphysema co-occurrent with fibrosis...  \n",
       "3    Asthma caused by house dust mite, Dermatophago...  \n",
       "4                          Purulent chronic bronchitis  \n",
       "..                                                 ...  \n",
       "581                           Fetid chronic bronchitis  \n",
       "582                                  Emphysema of lung  \n",
       "583  Olodaterol 2.5micrograms/dose solution for inh...  \n",
       "584  Fluticasone propionate 250micrograms/dose / Sa...  \n",
       "585  Aclidinium bromide 396micrograms/dose / Formot...  \n",
       "\n",
       "[586 rows x 5 columns]"
      ]
     },
     "metadata": {},
     "output_type": "display_data"
    }
   ],
   "source": [
    "# Define path to clinical codes CSV file\n",
    "clinical_codes_file_path = os.path.join(r'..\\data', 'clinical_codes.csv')\n",
    "\n",
    "# Extract clinical codes from CSV file\n",
    "clinical_codes_df = data_extractor.extract_from_csv(clinical_codes_file_path)\n",
    "\n",
    "display(clinical_codes_df)"
   ]
  },
  {
   "cell_type": "code",
   "execution_count": 46,
   "id": "6796bc81",
   "metadata": {},
   "outputs": [
    {
     "name": "stdout",
     "output_type": "stream",
     "text": [
      "579\n"
     ]
    }
   ],
   "source": [
    "num = len(clinical_codes_df['code_id'].unique())\n",
    "print(num)"
   ]
  },
  {
   "cell_type": "code",
   "execution_count": 47,
   "id": "60561a94",
   "metadata": {},
   "outputs": [
    {
     "name": "stdout",
     "output_type": "stream",
     "text": [
      "7\n"
     ]
    }
   ],
   "source": [
    "num = len(clinical_codes_df['refset_simple_id'].unique())\n",
    "print(num)"
   ]
  },
  {
   "cell_type": "code",
   "execution_count": 48,
   "id": "dbb033ad",
   "metadata": {},
   "outputs": [
    {
     "name": "stdout",
     "output_type": "stream",
     "text": [
      "     refset_simple_id  parent_code_id           code_id  snomed_concept_id  \\\n",
      "1        9.990129e+17             NaN         301451010       1.959490e+08   \n",
      "110      9.990129e+17             NaN   183191000006115       1.959490e+08   \n",
      "187      9.990116e+17             NaN  1948051000006112       1.069276e+16   \n",
      "196      9.990116e+17             NaN         301450011       1.959490e+08   \n",
      "245      9.990116e+17             NaN  9317341000006115       1.069276e+16   \n",
      "249      9.990116e+17             NaN   183191000006115       1.959490e+08   \n",
      "275      9.990116e+17             NaN         301451010       1.959490e+08   \n",
      "353      9.990129e+17             NaN  9317341000006115       1.069276e+16   \n",
      "365      9.990116e+17             NaN  9317331000006113       1.069276e+16   \n",
      "373      9.990129e+17             NaN  1948051000006112       1.069276e+16   \n",
      "395      9.990129e+17             NaN  7970171000006119       1.751000e+12   \n",
      "398      9.990129e+17             NaN         301450011       1.959490e+08   \n",
      "472      9.990116e+17             NaN  7970171000006119       1.751000e+12   \n",
      "487      9.990129e+17             NaN  9317331000006113       1.069276e+16   \n",
      "\n",
      "                                             emis_term  \n",
      "1                            Chronic wheezy bronchitis  \n",
      "110                        Recurrent wheezy bronchitis  \n",
      "187  Asthma-chronic obstructive pulmonary disease o...  \n",
      "196                       Chronic asthmatic bronchitis  \n",
      "245  ACOS - asthma-chronic obstructive pulmonary di...  \n",
      "249                        Recurrent wheezy bronchitis  \n",
      "275                          Chronic wheezy bronchitis  \n",
      "353  ACOS - asthma-chronic obstructive pulmonary di...  \n",
      "365                Asthma-COPD overlap syndrome (ACOS)  \n",
      "373  Asthma-chronic obstructive pulmonary disease o...  \n",
      "395  Acute exacerbation of chronic obstructive airw...  \n",
      "398                       Chronic asthmatic bronchitis  \n",
      "472  Acute exacerbation of chronic obstructive airw...  \n",
      "487                Asthma-COPD overlap syndrome (ACOS)  \n"
     ]
    }
   ],
   "source": [
    "# Step 1: Identify duplicated code_id values\n",
    "duplicated_code_ids = clinical_codes_df[clinical_codes_df.duplicated(subset='code_id', keep=False)]\n",
    "\n",
    "# Step 2: Print all rows where code_id is duplicated\n",
    "print(duplicated_code_ids)\n"
   ]
  },
  {
   "cell_type": "code",
   "execution_count": 49,
   "id": "c2d1b185",
   "metadata": {},
   "outputs": [
    {
     "name": "stdout",
     "output_type": "stream",
     "text": [
      "Number of unique rows in the DataFrame: 586\n",
      "Number of unique rows in the DataFrame: 586\n"
     ]
    }
   ],
   "source": [
    "# Assuming df is your DataFrame\n",
    "unique_rows1 = clinical_codes_df.shape[0]\n",
    "\n",
    "print(f\"Number of unique rows in the DataFrame: {unique_rows1}\")\n",
    "\n",
    "unique_rows2 = clinical_codes_df.drop_duplicates().shape[0]\n",
    "\n",
    "print(f\"Number of unique rows in the DataFrame: {unique_rows2}\")"
   ]
  },
  {
   "cell_type": "code",
   "execution_count": 50,
   "id": "aea90692",
   "metadata": {},
   "outputs": [
    {
     "name": "stdout",
     "output_type": "stream",
     "text": [
      "Empty DataFrame\n",
      "Columns: [refset_simple_id, parent_code_id, code_id, snomed_concept_id, emis_term]\n",
      "Index: []\n"
     ]
    }
   ],
   "source": [
    "dups = clinical_codes_df.duplicated()\n",
    "print(clinical_codes_df[dups])"
   ]
  }
 ],
 "metadata": {
  "kernelspec": {
   "display_name": "mrdc_env",
   "language": "python",
   "name": "python3"
  },
  "language_info": {
   "codemirror_mode": {
    "name": "ipython",
    "version": 3
   },
   "file_extension": ".py",
   "mimetype": "text/x-python",
   "name": "python",
   "nbconvert_exporter": "python",
   "pygments_lexer": "ipython3",
   "version": "3.12.4"
  }
 },
 "nbformat": 4,
 "nbformat_minor": 5
}
